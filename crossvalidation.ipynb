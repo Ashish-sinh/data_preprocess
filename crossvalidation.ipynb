{
 "cells": [
  {
   "cell_type": "markdown",
   "id": "9b7f5a37",
   "metadata": {},
   "source": [
    "# cross validation : "
   ]
  },
  {
   "cell_type": "raw",
   "id": "300c10bc",
   "metadata": {},
   "source": [
    "cross validation is a technique that use to chek the accurecy of the \n",
    "data model , in this case we are using the sub part of training datasets \n",
    "and traing the cross validation on validation data after the avrage  of \n",
    "model's  result is genralize performance : "
   ]
  },
  {
   "cell_type": "markdown",
   "id": "479073e0",
   "metadata": {},
   "source": [
    "# K fold techniques "
   ]
  },
  {
   "cell_type": "markdown",
   "id": "c0669c12",
   "metadata": {},
   "source": [
    "first it perform the split on train data into train and validation data \n",
    "this process repeted k time and each time it perform the cross validation \n",
    "in each fold and use avarage as a performance : "
   ]
  },
  {
   "cell_type": "code",
   "execution_count": 25,
   "id": "3058b0d5",
   "metadata": {},
   "outputs": [
    {
     "data": {
      "text/plain": [
       "0.96"
      ]
     },
     "execution_count": 25,
     "metadata": {},
     "output_type": "execute_result"
    }
   ],
   "source": [
    "import warnings\n",
    "warnings.filterwarnings('ignore') \n",
    "\n",
    "from sklearn.linear_model import LogisticRegression \n",
    "from sklearn.model_selection import train_test_split \n",
    "from sklearn.datasets import load_iris \n",
    "from sklearn.model_selection import KFold \n",
    "from sklearn.model_selection import cross_val_score\n",
    "X,y = load_iris( return_X_y = True) \n",
    "\n",
    "x_train,x_test , y_train ,y_test = train_test_split (\n",
    "                X,y , test_size = 0.33) \n",
    "reg = LogisticRegression ().fit(x_train ,y_train)\n",
    "y_pred = reg.predict(x_test)\n",
    "\n",
    "\n",
    "score = reg.score( x_test, y_test) \n",
    "\n",
    "cross_validation = KFold(10) \n",
    "score"
   ]
  },
  {
   "cell_type": "code",
   "execution_count": null,
   "id": "09478b04",
   "metadata": {},
   "outputs": [],
   "source": []
  },
  {
   "cell_type": "code",
   "execution_count": 28,
   "id": "c8d993c0",
   "metadata": {},
   "outputs": [
    {
     "name": "stdout",
     "output_type": "stream",
     "text": [
      "[1.         1.         1.         1.         0.93333333 0.86666667\n",
      " 1.         0.86666667 0.86666667 0.93333333]\n"
     ]
    }
   ],
   "source": [
    "from sklearn.model_selection import cross_val_score \n",
    "\n",
    "result = cross_val_score ( reg , X,y , cv = cross_validation ) \n",
    "\n",
    "result_sum = result.mean() \n",
    "print(result)"
   ]
  },
  {
   "cell_type": "markdown",
   "id": "ce9f9906",
   "metadata": {},
   "source": [
    "# StratifiedKFold "
   ]
  },
  {
   "cell_type": "markdown",
   "id": "6fda86fb",
   "metadata": {},
   "source": [
    "when the data is imbalaced than this type of cross validation technique \n",
    "use, also when the target variable is more prelevent then feature variable\n",
    "so it create the number of fold  which conain the avrage balanced feature \n",
    "of data that's why it use to imbalanced dataset"
   ]
  },
  {
   "cell_type": "markdown",
   "id": "0e353c4b",
   "metadata": {},
   "source": []
  },
  {
   "cell_type": "code",
   "execution_count": 29,
   "id": "b314f929",
   "metadata": {},
   "outputs": [
    {
     "name": "stdout",
     "output_type": "stream",
     "text": [
      "0.9733333333333334\n"
     ]
    }
   ],
   "source": [
    "from sklearn.model_selection import StratifiedKFold \n",
    "cv = StratifiedKFold (10) \n",
    "from sklearn.model_selection import cross_val_score \n",
    "\n",
    "\n",
    "results = cross_val_score( reg,X,y,cv  = cv) \n",
    "print(results.mean ()) "
   ]
  },
  {
   "cell_type": "markdown",
   "id": "75dda088",
   "metadata": {},
   "source": [
    "# Leave One out cross validation || leave p out cross validation "
   ]
  },
  {
   "cell_type": "markdown",
   "id": "2ba80126",
   "metadata": {},
   "source": [
    "'in this type of cross validation we are using thei one part as a \n",
    "traing data and take left out data  as validation data  \n",
    "this process repet wich each value of subdataset  :\n",
    "    \n",
    "other is Leare_p_out_cross ( where p = number of selection of subplot ) \n"
   ]
  },
  {
   "cell_type": "code",
   "execution_count": 31,
   "id": "74920e93",
   "metadata": {},
   "outputs": [
    {
     "name": "stdout",
     "output_type": "stream",
     "text": [
      "[1. 1. 1. 1. 1. 1. 1. 1. 1. 1. 1. 1. 1. 1. 1. 1. 1. 1. 1. 1. 1. 1. 1. 1.\n",
      " 1. 1. 1. 1. 1. 1. 1. 1. 1. 1. 1. 1. 1. 1. 1. 1. 1. 1. 1. 1. 1. 1. 1. 1.\n",
      " 1. 1. 1. 1. 1. 1. 1. 1. 1. 1. 1. 1. 1. 1. 1. 1. 1. 1. 1. 1. 1. 1. 0. 1.\n",
      " 1. 1. 1. 1. 1. 0. 1. 1. 1. 1. 1. 0. 1. 1. 1. 1. 1. 1. 1. 1. 1. 1. 1. 1.\n",
      " 1. 1. 1. 1. 1. 1. 1. 1. 1. 1. 0. 1. 1. 1. 1. 1. 1. 1. 1. 1. 1. 1. 1. 0.\n",
      " 1. 1. 1. 1. 1. 1. 1. 1. 1. 1. 1. 1. 1. 1. 1. 1. 1. 1. 1. 1. 1. 1. 1. 1.\n",
      " 1. 1. 1. 1. 1. 1.]\n"
     ]
    },
    {
     "data": {
      "text/plain": [
       "0.9666666666666667"
      ]
     },
     "execution_count": 31,
     "metadata": {},
     "output_type": "execute_result"
    }
   ],
   "source": [
    "from sklearn.model_selection import LeaveOneOut \n",
    "new_cv = LeaveOneOut ()\n",
    "from sklearn.model_selection import cross_val_score \n",
    "\n",
    "result = cross_val_score( reg,X,y,cv = new_cv) \n",
    "print(result) \n",
    "result.mean()"
   ]
  },
  {
   "cell_type": "markdown",
   "id": "f6f7a0fb",
   "metadata": {},
   "source": [
    "# Repeted random split "
   ]
  },
  {
   "cell_type": "markdown",
   "id": "445e1f42",
   "metadata": {},
   "source": [
    "this technique use the random shuffle splite and apply the k fold cross \n",
    "validation to all \n"
   ]
  },
  {
   "cell_type": "code",
   "execution_count": 39,
   "id": "88e551c8",
   "metadata": {},
   "outputs": [
    {
     "name": "stdout",
     "output_type": "stream",
     "text": [
      "[1.   0.98 0.92 0.92 0.98 1.   0.96 0.98 0.92 0.96]\n",
      "0.9620000000000001\n"
     ]
    }
   ],
   "source": [
    "from sklearn.model_selection import ShuffleSplit \n",
    "from sklearn.model_selection import cross_val_score \n",
    "\n",
    "shuffler = ShuffleSplit(n_splits = 10 , test_size = 0.33) \n",
    "\n",
    "score = cross_val_score( reg, X,y,cv = shuffler ) \n",
    "print(score)\n",
    "print(score.mean())"
   ]
  },
  {
   "cell_type": "code",
   "execution_count": null,
   "id": "a6f655cc",
   "metadata": {},
   "outputs": [],
   "source": []
  }
 ],
 "metadata": {
  "kernelspec": {
   "display_name": "Python 3 (ipykernel)",
   "language": "python",
   "name": "python3"
  },
  "language_info": {
   "codemirror_mode": {
    "name": "ipython",
    "version": 3
   },
   "file_extension": ".py",
   "mimetype": "text/x-python",
   "name": "python",
   "nbconvert_exporter": "python",
   "pygments_lexer": "ipython3",
   "version": "3.9.16"
  }
 },
 "nbformat": 4,
 "nbformat_minor": 5
}
