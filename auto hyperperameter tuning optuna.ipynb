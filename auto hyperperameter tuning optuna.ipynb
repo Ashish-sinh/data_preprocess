{
 "cells": [
  {
   "cell_type": "markdown",
   "id": "33f7e59e",
   "metadata": {},
   "source": [
    "# genetic ooptimized perameter tuning :"
   ]
  },
  {
   "cell_type": "raw",
   "id": "c08356a5",
   "metadata": {},
   "source": [
    "it is represent the nurel selection in biology so it work on the n of\n",
    "iteration on genration and each genration having some perameter\n",
    "after n of iteration each genration creates some function with qiver\n",
    "perameters and , which genration and function having higher accurecy it\n",
    "gives us\n",
    "genetic algorithms can explore multiple regions of the search space and\n",
    "converge to a diverse set of good solutions. However, qenetic algorithms\n",
    "can be computationally expensive, especially for large datasets and\n",
    "complex models, and may require careful tuning of the parameters that\n",
    "control the selection, reproduction,\n",
    "and mutation."
   ]
  },
  {
   "cell_type": "markdown",
   "id": "49062db2",
   "metadata": {},
   "source": [
    "code using optuna linbrary : "
   ]
  },
  {
   "cell_type": "code",
   "execution_count": 9,
   "id": "93211834",
   "metadata": {},
   "outputs": [],
   "source": [
    "import optuna \n",
    "from sklearn.linear_model import LogisticRegression \n",
    "from sklearn.model_selection import cross_val_score \n",
    "from sklearn.ensemble import RandomForestClassifier \n",
    "import sklearn\n",
    "\n",
    "from sklearn.datasets import load_iris \n",
    "x,y = load_iris().data, load_iris().target\n",
    "\n",
    "def objective(trial):\n",
    "     \n",
    "    \n",
    "    clf_name = trial.suggest_categorical('clf',['svm','random'])\n",
    "    \n",
    "    if clf_name == 'svm':\n",
    "        C= trial.suggest_float('c',1e-10,1e10 , log= True )\n",
    "        clf = sklearn.svm.SVC(C=C,gamma = 'auto')\n",
    "    else : \n",
    "        max_depth = trial.suggest_int('max_depth',2,32,log = True)\n",
    "        clf  = RandomForestClassifier (max_depth = max_depth , n_estimators = 10 )\n",
    "        \n",
    "    acc = cross_val_score ( clf, x,y,n_jobs = -1,cv=5 ).mean()\n",
    "    return acc \n",
    "\n",
    "\n",
    "\n"
   ]
  },
  {
   "cell_type": "code",
   "execution_count": 10,
   "id": "ea23174f",
   "metadata": {},
   "outputs": [
    {
     "name": "stderr",
     "output_type": "stream",
     "text": [
      "\u001b[32m[I 2023-03-26 19:42:23,995]\u001b[0m A new study created in memory with name: no-name-12bdeee3-13d6-406f-ae1e-fc6862ffc102\u001b[0m\n",
      "\u001b[32m[I 2023-03-26 19:42:24,123]\u001b[0m Trial 0 finished with value: 0.9533333333333334 and parameters: {'clf': 'random', 'max_depth': 17}. Best is trial 0 with value: 0.9533333333333334.\u001b[0m\n",
      "\u001b[32m[I 2023-03-26 19:42:24,148]\u001b[0m Trial 1 finished with value: 0.9333333333333333 and parameters: {'clf': 'svm', 'c': 2.2099000182025154e-07}. Best is trial 0 with value: 0.9533333333333334.\u001b[0m\n",
      "\u001b[32m[I 2023-03-26 19:42:24,230]\u001b[0m Trial 2 finished with value: 0.9533333333333334 and parameters: {'clf': 'random', 'max_depth': 9}. Best is trial 0 with value: 0.9533333333333334.\u001b[0m\n",
      "\u001b[32m[I 2023-03-26 19:42:24,303]\u001b[0m Trial 3 finished with value: 0.9533333333333334 and parameters: {'clf': 'random', 'max_depth': 2}. Best is trial 0 with value: 0.9533333333333334.\u001b[0m\n",
      "\u001b[32m[I 2023-03-26 19:42:24,376]\u001b[0m Trial 4 finished with value: 0.9466666666666667 and parameters: {'clf': 'random', 'max_depth': 5}. Best is trial 0 with value: 0.9533333333333334.\u001b[0m\n",
      "\u001b[32m[I 2023-03-26 19:42:24,449]\u001b[0m Trial 5 finished with value: 0.9533333333333334 and parameters: {'clf': 'random', 'max_depth': 5}. Best is trial 0 with value: 0.9533333333333334.\u001b[0m\n",
      "\u001b[32m[I 2023-03-26 19:42:24,472]\u001b[0m Trial 6 finished with value: 0.9333333333333333 and parameters: {'clf': 'svm', 'c': 3.3263013448349886e-05}. Best is trial 0 with value: 0.9533333333333334.\u001b[0m\n",
      "\u001b[32m[I 2023-03-26 19:42:24,495]\u001b[0m Trial 7 finished with value: 0.9733333333333334 and parameters: {'clf': 'svm', 'c': 0.4879344014546102}. Best is trial 7 with value: 0.9733333333333334.\u001b[0m\n",
      "\u001b[32m[I 2023-03-26 19:42:24,577]\u001b[0m Trial 8 finished with value: 0.96 and parameters: {'clf': 'random', 'max_depth': 8}. Best is trial 7 with value: 0.9733333333333334.\u001b[0m\n",
      "\u001b[32m[I 2023-03-26 19:42:24,605]\u001b[0m Trial 9 finished with value: 0.9333333333333333 and parameters: {'clf': 'svm', 'c': 3.5995925147753906e-07}. Best is trial 7 with value: 0.9733333333333334.\u001b[0m\n",
      "\u001b[32m[I 2023-03-26 19:42:24,637]\u001b[0m Trial 10 finished with value: 0.9400000000000001 and parameters: {'clf': 'svm', 'c': 131791.01931411168}. Best is trial 7 with value: 0.9733333333333334.\u001b[0m\n",
      "\u001b[32m[I 2023-03-26 19:42:24,673]\u001b[0m Trial 11 finished with value: 0.96 and parameters: {'clf': 'svm', 'c': 82.59129200696796}. Best is trial 7 with value: 0.9733333333333334.\u001b[0m\n",
      "\u001b[32m[I 2023-03-26 19:42:24,773]\u001b[0m Trial 12 finished with value: 0.9533333333333334 and parameters: {'clf': 'random', 'max_depth': 18}. Best is trial 7 with value: 0.9733333333333334.\u001b[0m\n",
      "\u001b[32m[I 2023-03-26 19:42:24,804]\u001b[0m Trial 13 finished with value: 0.9400000000000001 and parameters: {'clf': 'svm', 'c': 22098506.402924225}. Best is trial 7 with value: 0.9733333333333334.\u001b[0m\n",
      "\u001b[32m[I 2023-03-26 19:42:24,900]\u001b[0m Trial 14 finished with value: 0.96 and parameters: {'clf': 'random', 'max_depth': 29}. Best is trial 7 with value: 0.9733333333333334.\u001b[0m\n",
      "\u001b[32m[I 2023-03-26 19:42:24,921]\u001b[0m Trial 15 finished with value: 0.9800000000000001 and parameters: {'clf': 'svm', 'c': 12.666221222718216}. Best is trial 15 with value: 0.9800000000000001.\u001b[0m\n",
      "\u001b[32m[I 2023-03-26 19:42:24,956]\u001b[0m Trial 16 finished with value: 0.96 and parameters: {'clf': 'svm', 'c': 0.18853773736357562}. Best is trial 15 with value: 0.9800000000000001.\u001b[0m\n",
      "\u001b[32m[I 2023-03-26 19:42:24,989]\u001b[0m Trial 17 finished with value: 0.9800000000000001 and parameters: {'clf': 'svm', 'c': 0.68512566310141}. Best is trial 15 with value: 0.9800000000000001.\u001b[0m\n",
      "\u001b[32m[I 2023-03-26 19:42:25,019]\u001b[0m Trial 18 finished with value: 0.9533333333333334 and parameters: {'clf': 'svm', 'c': 677.190343892693}. Best is trial 15 with value: 0.9800000000000001.\u001b[0m\n",
      "\u001b[32m[I 2023-03-26 19:42:25,052]\u001b[0m Trial 19 finished with value: 0.9400000000000001 and parameters: {'clf': 'svm', 'c': 3998855105.6072206}. Best is trial 15 with value: 0.9800000000000001.\u001b[0m\n",
      "\u001b[32m[I 2023-03-26 19:42:25,092]\u001b[0m Trial 20 finished with value: 0.9333333333333333 and parameters: {'clf': 'svm', 'c': 0.004242601010798228}. Best is trial 15 with value: 0.9800000000000001.\u001b[0m\n",
      "\u001b[32m[I 2023-03-26 19:42:25,125]\u001b[0m Trial 21 finished with value: 0.9800000000000001 and parameters: {'clf': 'svm', 'c': 1.0386784796809863}. Best is trial 15 with value: 0.9800000000000001.\u001b[0m\n",
      "\u001b[32m[I 2023-03-26 19:42:25,156]\u001b[0m Trial 22 finished with value: 0.96 and parameters: {'clf': 'svm', 'c': 138.29166665684164}. Best is trial 15 with value: 0.9800000000000001.\u001b[0m\n",
      "\u001b[32m[I 2023-03-26 19:42:25,192]\u001b[0m Trial 23 finished with value: 0.9333333333333333 and parameters: {'clf': 'svm', 'c': 0.0011767856368030123}. Best is trial 15 with value: 0.9800000000000001.\u001b[0m\n",
      "\u001b[32m[I 2023-03-26 19:42:25,221]\u001b[0m Trial 24 finished with value: 0.9800000000000001 and parameters: {'clf': 'svm', 'c': 2.1866740662309674}. Best is trial 15 with value: 0.9800000000000001.\u001b[0m\n",
      "\u001b[32m[I 2023-03-26 19:42:25,264]\u001b[0m Trial 25 finished with value: 0.9333333333333333 and parameters: {'clf': 'svm', 'c': 1.0326758557008555e-10}. Best is trial 15 with value: 0.9800000000000001.\u001b[0m\n",
      "\u001b[32m[I 2023-03-26 19:42:25,293]\u001b[0m Trial 26 finished with value: 0.9400000000000001 and parameters: {'clf': 'svm', 'c': 28295.742565418463}. Best is trial 15 with value: 0.9800000000000001.\u001b[0m\n",
      "\u001b[32m[I 2023-03-26 19:42:25,331]\u001b[0m Trial 27 finished with value: 0.9800000000000001 and parameters: {'clf': 'svm', 'c': 1.1154825245650792}. Best is trial 15 with value: 0.9800000000000001.\u001b[0m\n",
      "\u001b[32m[I 2023-03-26 19:42:25,365]\u001b[0m Trial 28 finished with value: 0.9333333333333333 and parameters: {'clf': 'svm', 'c': 0.009319703084299963}. Best is trial 15 with value: 0.9800000000000001.\u001b[0m\n",
      "\u001b[32m[I 2023-03-26 19:42:25,397]\u001b[0m Trial 29 finished with value: 0.9666666666666668 and parameters: {'clf': 'svm', 'c': 28.355519601487988}. Best is trial 15 with value: 0.9800000000000001.\u001b[0m\n",
      "\u001b[32m[I 2023-03-26 19:42:25,425]\u001b[0m Trial 30 finished with value: 0.9400000000000001 and parameters: {'clf': 'svm', 'c': 4373.107115370696}. Best is trial 15 with value: 0.9800000000000001.\u001b[0m\n",
      "\u001b[32m[I 2023-03-26 19:42:25,458]\u001b[0m Trial 31 finished with value: 0.9800000000000001 and parameters: {'clf': 'svm', 'c': 8.36115309514726}. Best is trial 15 with value: 0.9800000000000001.\u001b[0m\n",
      "\u001b[32m[I 2023-03-26 19:42:25,489]\u001b[0m Trial 32 finished with value: 0.9800000000000001 and parameters: {'clf': 'svm', 'c': 0.8781368132866867}. Best is trial 15 with value: 0.9800000000000001.\u001b[0m\n",
      "\u001b[32m[I 2023-03-26 19:42:25,517]\u001b[0m Trial 33 finished with value: 0.9666666666666668 and parameters: {'clf': 'svm', 'c': 19.120381538775636}. Best is trial 15 with value: 0.9800000000000001.\u001b[0m\n",
      "\u001b[32m[I 2023-03-26 19:42:25,550]\u001b[0m Trial 34 finished with value: 0.96 and parameters: {'clf': 'svm', 'c': 0.12805441748118718}. Best is trial 15 with value: 0.9800000000000001.\u001b[0m\n",
      "\u001b[32m[I 2023-03-26 19:42:25,590]\u001b[0m Trial 35 finished with value: 0.9466666666666667 and parameters: {'clf': 'svm', 'c': 829.0922926312147}. Best is trial 15 with value: 0.9800000000000001.\u001b[0m\n",
      "\u001b[32m[I 2023-03-26 19:42:25,628]\u001b[0m Trial 36 finished with value: 0.9333333333333333 and parameters: {'clf': 'svm', 'c': 0.026837634641561973}. Best is trial 15 with value: 0.9800000000000001.\u001b[0m\n",
      "\u001b[32m[I 2023-03-26 19:42:25,729]\u001b[0m Trial 37 finished with value: 0.9466666666666667 and parameters: {'clf': 'random', 'max_depth': 2}. Best is trial 15 with value: 0.9800000000000001.\u001b[0m\n",
      "\u001b[32m[I 2023-03-26 19:42:25,758]\u001b[0m Trial 38 finished with value: 0.9866666666666667 and parameters: {'clf': 'svm', 'c': 3.4381309709604007}. Best is trial 38 with value: 0.9866666666666667.\u001b[0m\n",
      "\u001b[32m[I 2023-03-26 19:42:25,858]\u001b[0m Trial 39 finished with value: 0.9466666666666667 and parameters: {'clf': 'random', 'max_depth': 3}. Best is trial 38 with value: 0.9866666666666667.\u001b[0m\n",
      "\u001b[32m[I 2023-03-26 19:42:25,894]\u001b[0m Trial 40 finished with value: 0.9333333333333333 and parameters: {'clf': 'svm', 'c': 0.0004891632840083517}. Best is trial 38 with value: 0.9866666666666667.\u001b[0m\n",
      "\u001b[32m[I 2023-03-26 19:42:25,927]\u001b[0m Trial 41 finished with value: 0.9800000000000001 and parameters: {'clf': 'svm', 'c': 5.528024103359252}. Best is trial 38 with value: 0.9866666666666667.\u001b[0m\n"
     ]
    },
    {
     "name": "stderr",
     "output_type": "stream",
     "text": [
      "\u001b[32m[I 2023-03-26 19:42:25,958]\u001b[0m Trial 42 finished with value: 0.9800000000000001 and parameters: {'clf': 'svm', 'c': 2.607184792314898}. Best is trial 38 with value: 0.9866666666666667.\u001b[0m\n",
      "\u001b[32m[I 2023-03-26 19:42:25,986]\u001b[0m Trial 43 finished with value: 0.9333333333333333 and parameters: {'clf': 'svm', 'c': 0.05466447015698655}. Best is trial 38 with value: 0.9866666666666667.\u001b[0m\n",
      "\u001b[32m[I 2023-03-26 19:42:26,015]\u001b[0m Trial 44 finished with value: 0.9800000000000001 and parameters: {'clf': 'svm', 'c': 0.5127277529978433}. Best is trial 38 with value: 0.9866666666666667.\u001b[0m\n",
      "\u001b[32m[I 2023-03-26 19:42:26,045]\u001b[0m Trial 45 finished with value: 0.96 and parameters: {'clf': 'svm', 'c': 94.9200456479007}. Best is trial 38 with value: 0.9866666666666667.\u001b[0m\n",
      "\u001b[32m[I 2023-03-26 19:42:26,130]\u001b[0m Trial 46 finished with value: 0.9666666666666668 and parameters: {'clf': 'random', 'max_depth': 3}. Best is trial 38 with value: 0.9866666666666667.\u001b[0m\n",
      "\u001b[32m[I 2023-03-26 19:42:26,160]\u001b[0m Trial 47 finished with value: 0.9333333333333333 and parameters: {'clf': 'svm', 'c': 9.674579486786482e-05}. Best is trial 38 with value: 0.9866666666666667.\u001b[0m\n",
      "\u001b[32m[I 2023-03-26 19:42:26,186]\u001b[0m Trial 48 finished with value: 0.9333333333333333 and parameters: {'clf': 'svm', 'c': 0.019785105450716742}. Best is trial 38 with value: 0.9866666666666667.\u001b[0m\n",
      "\u001b[32m[I 2023-03-26 19:42:26,211]\u001b[0m Trial 49 finished with value: 0.9800000000000001 and parameters: {'clf': 'svm', 'c': 5.479635094291533}. Best is trial 38 with value: 0.9866666666666667.\u001b[0m\n",
      "\u001b[32m[I 2023-03-26 19:42:26,310]\u001b[0m Trial 50 finished with value: 0.9533333333333334 and parameters: {'clf': 'random', 'max_depth': 12}. Best is trial 38 with value: 0.9866666666666667.\u001b[0m\n",
      "\u001b[32m[I 2023-03-26 19:42:26,338]\u001b[0m Trial 51 finished with value: 0.9800000000000001 and parameters: {'clf': 'svm', 'c': 0.6894760255735043}. Best is trial 38 with value: 0.9866666666666667.\u001b[0m\n",
      "\u001b[32m[I 2023-03-26 19:42:26,365]\u001b[0m Trial 52 finished with value: 0.96 and parameters: {'clf': 'svm', 'c': 0.23749535986171044}. Best is trial 38 with value: 0.9866666666666667.\u001b[0m\n",
      "\u001b[32m[I 2023-03-26 19:42:26,400]\u001b[0m Trial 53 finished with value: 0.9866666666666667 and parameters: {'clf': 'svm', 'c': 3.5977179752134}. Best is trial 38 with value: 0.9866666666666667.\u001b[0m\n",
      "\u001b[32m[I 2023-03-26 19:42:26,423]\u001b[0m Trial 54 finished with value: 0.96 and parameters: {'clf': 'svm', 'c': 108.78154839056468}. Best is trial 38 with value: 0.9866666666666667.\u001b[0m\n",
      "\u001b[32m[I 2023-03-26 19:42:26,451]\u001b[0m Trial 55 finished with value: 0.9800000000000001 and parameters: {'clf': 'svm', 'c': 11.464724461174173}. Best is trial 38 with value: 0.9866666666666667.\u001b[0m\n",
      "\u001b[32m[I 2023-03-26 19:42:26,478]\u001b[0m Trial 56 finished with value: 0.9466666666666667 and parameters: {'clf': 'svm', 'c': 913.1626223254118}. Best is trial 38 with value: 0.9866666666666667.\u001b[0m\n",
      "\u001b[32m[I 2023-03-26 19:42:26,515]\u001b[0m Trial 57 finished with value: 0.9333333333333333 and parameters: {'clf': 'svm', 'c': 0.03826807500250046}. Best is trial 38 with value: 0.9866666666666667.\u001b[0m\n",
      "\u001b[32m[I 2023-03-26 19:42:26,544]\u001b[0m Trial 58 finished with value: 0.9800000000000001 and parameters: {'clf': 'svm', 'c': 1.9905020258114012}. Best is trial 38 with value: 0.9866666666666667.\u001b[0m\n",
      "\u001b[32m[I 2023-03-26 19:42:26,577]\u001b[0m Trial 59 finished with value: 0.96 and parameters: {'clf': 'svm', 'c': 0.18765032460752654}. Best is trial 38 with value: 0.9866666666666667.\u001b[0m\n",
      "\u001b[32m[I 2023-03-26 19:42:26,606]\u001b[0m Trial 60 finished with value: 0.9333333333333333 and parameters: {'clf': 'svm', 'c': 0.002356382288717678}. Best is trial 38 with value: 0.9866666666666667.\u001b[0m\n",
      "\u001b[32m[I 2023-03-26 19:42:26,638]\u001b[0m Trial 61 finished with value: 0.9733333333333334 and parameters: {'clf': 'svm', 'c': 2.918982014404924}. Best is trial 38 with value: 0.9866666666666667.\u001b[0m\n",
      "\u001b[32m[I 2023-03-26 19:42:26,668]\u001b[0m Trial 62 finished with value: 0.96 and parameters: {'clf': 'svm', 'c': 54.47832701804081}. Best is trial 38 with value: 0.9866666666666667.\u001b[0m\n",
      "\u001b[32m[I 2023-03-26 19:42:26,697]\u001b[0m Trial 63 finished with value: 0.9800000000000001 and parameters: {'clf': 'svm', 'c': 0.93480611564405}. Best is trial 38 with value: 0.9866666666666667.\u001b[0m\n",
      "\u001b[32m[I 2023-03-26 19:42:26,724]\u001b[0m Trial 64 finished with value: 0.9666666666666668 and parameters: {'clf': 'svm', 'c': 21.01935647181413}. Best is trial 38 with value: 0.9866666666666667.\u001b[0m\n",
      "\u001b[32m[I 2023-03-26 19:42:26,758]\u001b[0m Trial 65 finished with value: 0.96 and parameters: {'clf': 'svm', 'c': 0.12808406872009787}. Best is trial 38 with value: 0.9866666666666667.\u001b[0m\n",
      "\u001b[32m[I 2023-03-26 19:42:26,793]\u001b[0m Trial 66 finished with value: 0.9333333333333333 and parameters: {'clf': 'svm', 'c': 0.009817684462607256}. Best is trial 38 with value: 0.9866666666666667.\u001b[0m\n",
      "\u001b[32m[I 2023-03-26 19:42:26,889]\u001b[0m Trial 67 finished with value: 0.9600000000000002 and parameters: {'clf': 'random', 'max_depth': 5}. Best is trial 38 with value: 0.9866666666666667.\u001b[0m\n",
      "\u001b[32m[I 2023-03-26 19:42:26,918]\u001b[0m Trial 68 finished with value: 0.96 and parameters: {'clf': 'svm', 'c': 137.12192385110737}. Best is trial 38 with value: 0.9866666666666667.\u001b[0m\n",
      "\u001b[32m[I 2023-03-26 19:42:26,955]\u001b[0m Trial 69 finished with value: 0.9800000000000001 and parameters: {'clf': 'svm', 'c': 0.756585608964155}. Best is trial 38 with value: 0.9866666666666667.\u001b[0m\n",
      "\u001b[32m[I 2023-03-26 19:42:26,988]\u001b[0m Trial 70 finished with value: 0.9533333333333334 and parameters: {'clf': 'svm', 'c': 562.3153631517093}. Best is trial 38 with value: 0.9866666666666667.\u001b[0m\n",
      "\u001b[32m[I 2023-03-26 19:42:27,014]\u001b[0m Trial 71 finished with value: 0.9800000000000001 and parameters: {'clf': 'svm', 'c': 9.866287809560927}. Best is trial 38 with value: 0.9866666666666667.\u001b[0m\n",
      "\u001b[32m[I 2023-03-26 19:42:27,042]\u001b[0m Trial 72 finished with value: 0.9733333333333334 and parameters: {'clf': 'svm', 'c': 16.867104955195998}. Best is trial 38 with value: 0.9866666666666667.\u001b[0m\n",
      "\u001b[32m[I 2023-03-26 19:42:27,069]\u001b[0m Trial 73 finished with value: 0.9800000000000001 and parameters: {'clf': 'svm', 'c': 4.482101378854738}. Best is trial 38 with value: 0.9866666666666667.\u001b[0m\n",
      "\u001b[32m[I 2023-03-26 19:42:27,101]\u001b[0m Trial 74 finished with value: 0.9533333333333334 and parameters: {'clf': 'svm', 'c': 0.10492856678509414}. Best is trial 38 with value: 0.9866666666666667.\u001b[0m\n",
      "\u001b[32m[I 2023-03-26 19:42:27,131]\u001b[0m Trial 75 finished with value: 0.9800000000000001 and parameters: {'clf': 'svm', 'c': 1.8793952597178443}. Best is trial 38 with value: 0.9866666666666667.\u001b[0m\n",
      "\u001b[32m[I 2023-03-26 19:42:27,164]\u001b[0m Trial 76 finished with value: 0.9733333333333334 and parameters: {'clf': 'svm', 'c': 0.3573447183829631}. Best is trial 38 with value: 0.9866666666666667.\u001b[0m\n",
      "\u001b[32m[I 2023-03-26 19:42:27,201]\u001b[0m Trial 77 finished with value: 0.9666666666666668 and parameters: {'clf': 'svm', 'c': 25.87727201967601}. Best is trial 38 with value: 0.9866666666666667.\u001b[0m\n",
      "\u001b[32m[I 2023-03-26 19:42:27,297]\u001b[0m Trial 78 finished with value: 0.9666666666666668 and parameters: {'clf': 'random', 'max_depth': 31}. Best is trial 38 with value: 0.9866666666666667.\u001b[0m\n",
      "\u001b[32m[I 2023-03-26 19:42:27,326]\u001b[0m Trial 79 finished with value: 0.9333333333333333 and parameters: {'clf': 'svm', 'c': 0.014103115045043633}. Best is trial 38 with value: 0.9866666666666667.\u001b[0m\n",
      "\u001b[32m[I 2023-03-26 19:42:27,354]\u001b[0m Trial 80 finished with value: 0.9533333333333334 and parameters: {'clf': 'svm', 'c': 250.0743567415836}. Best is trial 38 with value: 0.9866666666666667.\u001b[0m\n",
      "\u001b[32m[I 2023-03-26 19:42:27,382]\u001b[0m Trial 81 finished with value: 0.9800000000000001 and parameters: {'clf': 'svm', 'c': 1.0677763031612484}. Best is trial 38 with value: 0.9866666666666667.\u001b[0m\n",
      "\u001b[32m[I 2023-03-26 19:42:27,413]\u001b[0m Trial 82 finished with value: 0.9800000000000001 and parameters: {'clf': 'svm', 'c': 5.798445947893454}. Best is trial 38 with value: 0.9866666666666667.\u001b[0m\n",
      "\u001b[32m[I 2023-03-26 19:42:27,447]\u001b[0m Trial 83 finished with value: 0.9666666666666666 and parameters: {'clf': 'svm', 'c': 0.2942741482515191}. Best is trial 38 with value: 0.9866666666666667.\u001b[0m\n",
      "\u001b[32m[I 2023-03-26 19:42:27,471]\u001b[0m Trial 84 finished with value: 0.96 and parameters: {'clf': 'svm', 'c': 48.36867900181025}. Best is trial 38 with value: 0.9866666666666667.\u001b[0m\n"
     ]
    },
    {
     "name": "stderr",
     "output_type": "stream",
     "text": [
      "\u001b[32m[I 2023-03-26 19:42:27,507]\u001b[0m Trial 85 finished with value: 0.9466666666666667 and parameters: {'clf': 'svm', 'c': 0.10100267714702557}. Best is trial 38 with value: 0.9866666666666667.\u001b[0m\n",
      "\u001b[32m[I 2023-03-26 19:42:27,536]\u001b[0m Trial 86 finished with value: 0.9800000000000001 and parameters: {'clf': 'svm', 'c': 2.0453198174634992}. Best is trial 38 with value: 0.9866666666666667.\u001b[0m\n",
      "\u001b[32m[I 2023-03-26 19:42:27,563]\u001b[0m Trial 87 finished with value: 0.9800000000000001 and parameters: {'clf': 'svm', 'c': 8.725963747765734}. Best is trial 38 with value: 0.9866666666666667.\u001b[0m\n",
      "\u001b[32m[I 2023-03-26 19:42:27,595]\u001b[0m Trial 88 finished with value: 0.9333333333333333 and parameters: {'clf': 'svm', 'c': 0.037817431248124145}. Best is trial 38 with value: 0.9866666666666667.\u001b[0m\n",
      "\u001b[32m[I 2023-03-26 19:42:27,687]\u001b[0m Trial 89 finished with value: 0.9466666666666667 and parameters: {'clf': 'random', 'max_depth': 12}. Best is trial 38 with value: 0.9866666666666667.\u001b[0m\n",
      "\u001b[32m[I 2023-03-26 19:42:27,712]\u001b[0m Trial 90 finished with value: 0.9666666666666668 and parameters: {'clf': 'svm', 'c': 0.46984086284532034}. Best is trial 38 with value: 0.9866666666666667.\u001b[0m\n",
      "\u001b[32m[I 2023-03-26 19:42:27,760]\u001b[0m Trial 91 finished with value: 0.9800000000000001 and parameters: {'clf': 'svm', 'c': 4.4484445221773115}. Best is trial 38 with value: 0.9866666666666667.\u001b[0m\n",
      "\u001b[32m[I 2023-03-26 19:42:27,795]\u001b[0m Trial 92 finished with value: 0.96 and parameters: {'clf': 'svm', 'c': 39.67814811093788}. Best is trial 38 with value: 0.9866666666666667.\u001b[0m\n",
      "\u001b[32m[I 2023-03-26 19:42:27,824]\u001b[0m Trial 93 finished with value: 0.9800000000000001 and parameters: {'clf': 'svm', 'c': 1.297587097705015}. Best is trial 38 with value: 0.9866666666666667.\u001b[0m\n",
      "\u001b[32m[I 2023-03-26 19:42:27,854]\u001b[0m Trial 94 finished with value: 0.9800000000000001 and parameters: {'clf': 'svm', 'c': 5.539861255266437}. Best is trial 38 with value: 0.9866666666666667.\u001b[0m\n",
      "\u001b[32m[I 2023-03-26 19:42:27,886]\u001b[0m Trial 95 finished with value: 0.9666666666666668 and parameters: {'clf': 'svm', 'c': 0.46887349291648334}. Best is trial 38 with value: 0.9866666666666667.\u001b[0m\n",
      "\u001b[32m[I 2023-03-26 19:42:27,915]\u001b[0m Trial 96 finished with value: 0.9666666666666668 and parameters: {'clf': 'svm', 'c': 21.012945446837684}. Best is trial 38 with value: 0.9866666666666667.\u001b[0m\n",
      "\u001b[32m[I 2023-03-26 19:42:27,948]\u001b[0m Trial 97 finished with value: 0.9333333333333333 and parameters: {'clf': 'svm', 'c': 0.05077139294700599}. Best is trial 38 with value: 0.9866666666666667.\u001b[0m\n",
      "\u001b[32m[I 2023-03-26 19:42:27,977]\u001b[0m Trial 98 finished with value: 0.96 and parameters: {'clf': 'svm', 'c': 173.33974901198258}. Best is trial 38 with value: 0.9866666666666667.\u001b[0m\n",
      "\u001b[32m[I 2023-03-26 19:42:28,004]\u001b[0m Trial 99 finished with value: 0.9800000000000001 and parameters: {'clf': 'svm', 'c': 2.468511546395298}. Best is trial 38 with value: 0.9866666666666667.\u001b[0m\n"
     ]
    },
    {
     "name": "stdout",
     "output_type": "stream",
     "text": [
      "FrozenTrial(number=38, state=TrialState.COMPLETE, values=[0.9866666666666667], datetime_start=datetime.datetime(2023, 3, 26, 19, 42, 25, 730373), datetime_complete=datetime.datetime(2023, 3, 26, 19, 42, 25, 758429), params={'clf': 'svm', 'c': 3.4381309709604007}, user_attrs={}, system_attrs={}, intermediate_values={}, distributions={'clf': CategoricalDistribution(choices=('svm', 'random')), 'c': FloatDistribution(high=10000000000.0, log=True, low=1e-10, step=None)}, trial_id=38, value=None)\n"
     ]
    }
   ],
   "source": [
    "if __name__ == \"__main__\":\n",
    "    study = optuna.create_study(direction=\"maximize\")\n",
    "    study.optimize(objective, n_trials=100)\n",
    "    print(study.best_trial)"
   ]
  },
  {
   "cell_type": "code",
   "execution_count": 11,
   "id": "85c0abea",
   "metadata": {},
   "outputs": [],
   "source": [
    "\n",
    "import optuna \n",
    "from sklearn.linear_model import LogisticRegression \n",
    "from sklearn.ensemble import RandomForestClassifier \n",
    "from sklearn.model_selection import cross_val_score \n",
    " \n",
    "from sklearn.datasets import make_classification \n",
    "x ,y = make_classification (n_samples = 1000 , n_features= 7) \n",
    "\n",
    "def objective( trial) : \n",
    "   \n",
    "    \n",
    "    clf_name = trial.suggest_categorical('clf',['lr','rfc']) \n",
    "    if clf_name == 'clf': \n",
    "        penalty = trial.suggest_categorical('penalty',['l1','l2'])\n",
    "        clf = LogisticRegression (penalty = penaly ,solver = 'libliner')\n",
    "    else : \n",
    "        n_estimators = trial.suggest_int('n_estimators',10,100, log =True)\n",
    "        clf = RandomForestClassifier( n_estimators= n_estimators , max_depth= 4)\n",
    "    \n",
    "    acc =float( cross_val_score( clf,x,y,n_jobs =-1,cv =3).mean())\n",
    "    return acc "
   ]
  },
  {
   "cell_type": "code",
   "execution_count": 12,
   "id": "fe49b8c9",
   "metadata": {},
   "outputs": [
    {
     "name": "stderr",
     "output_type": "stream",
     "text": [
      "\u001b[32m[I 2023-03-26 19:43:07,978]\u001b[0m A new study created in memory with name: no-name-ad9d1814-3c6a-4f67-a1c6-779438539f63\u001b[0m\n",
      "\u001b[32m[I 2023-03-26 19:43:08,081]\u001b[0m Trial 0 finished with value: 0.8970047892203582 and parameters: {'clf': 'lr', 'n_estimators': 16}. Best is trial 0 with value: 0.8970047892203582.\u001b[0m\n",
      "\u001b[32m[I 2023-03-26 19:43:08,257]\u001b[0m Trial 1 finished with value: 0.9050068032103961 and parameters: {'clf': 'lr', 'n_estimators': 47}. Best is trial 1 with value: 0.9050068032103961.\u001b[0m\n",
      "\u001b[32m[I 2023-03-26 19:43:08,491]\u001b[0m Trial 2 finished with value: 0.907005808203413 and parameters: {'clf': 'lr', 'n_estimators': 65}. Best is trial 2 with value: 0.907005808203413.\u001b[0m\n",
      "\u001b[32m[I 2023-03-26 19:43:08,652]\u001b[0m Trial 3 finished with value: 0.9060078042113969 and parameters: {'clf': 'rfc', 'n_estimators': 35}. Best is trial 2 with value: 0.907005808203413.\u001b[0m\n",
      "\u001b[32m[I 2023-03-26 19:43:08,815]\u001b[0m Trial 4 finished with value: 0.9080158002313691 and parameters: {'clf': 'lr', 'n_estimators': 40}. Best is trial 4 with value: 0.9080158002313691.\u001b[0m\n",
      "\u001b[32m[I 2023-03-26 19:43:08,930]\u001b[0m Trial 5 finished with value: 0.9080158002313691 and parameters: {'clf': 'lr', 'n_estimators': 21}. Best is trial 4 with value: 0.9080158002313691.\u001b[0m\n",
      "\u001b[32m[I 2023-03-26 19:43:09,167]\u001b[0m Trial 6 finished with value: 0.903004801208394 and parameters: {'clf': 'rfc', 'n_estimators': 52}. Best is trial 4 with value: 0.9080158002313691.\u001b[0m\n",
      "\u001b[32m[I 2023-03-26 19:43:09,329]\u001b[0m Trial 7 finished with value: 0.9040058022093951 and parameters: {'clf': 'rfc', 'n_estimators': 33}. Best is trial 4 with value: 0.9080158002313691.\u001b[0m\n",
      "\u001b[32m[I 2023-03-26 19:43:09,404]\u001b[0m Trial 8 finished with value: 0.9030107952263641 and parameters: {'clf': 'rfc', 'n_estimators': 13}. Best is trial 4 with value: 0.9080158002313691.\u001b[0m\n",
      "\u001b[32m[I 2023-03-26 19:43:09,642]\u001b[0m Trial 9 finished with value: 0.90400280520041 and parameters: {'clf': 'rfc', 'n_estimators': 52}. Best is trial 4 with value: 0.9080158002313691.\u001b[0m\n",
      "\u001b[32m[I 2023-03-26 19:43:10,038]\u001b[0m Trial 10 finished with value: 0.9060048072024119 and parameters: {'clf': 'lr', 'n_estimators': 97}. Best is trial 4 with value: 0.9080158002313691.\u001b[0m\n",
      "\u001b[32m[I 2023-03-26 19:43:10,145]\u001b[0m Trial 11 finished with value: 0.909001816187445 and parameters: {'clf': 'lr', 'n_estimators': 21}. Best is trial 11 with value: 0.909001816187445.\u001b[0m\n",
      "\u001b[32m[I 2023-03-26 19:43:10,245]\u001b[0m Trial 12 finished with value: 0.9060137982293671 and parameters: {'clf': 'lr', 'n_estimators': 22}. Best is trial 11 with value: 0.909001816187445.\u001b[0m\n",
      "\u001b[32m[I 2023-03-26 19:43:10,354]\u001b[0m Trial 13 finished with value: 0.903004801208394 and parameters: {'clf': 'lr', 'n_estimators': 25}. Best is trial 11 with value: 0.909001816187445.\u001b[0m\n",
      "\u001b[32m[I 2023-03-26 19:43:10,419]\u001b[0m Trial 14 finished with value: 0.9010087932243621 and parameters: {'clf': 'lr', 'n_estimators': 11}. Best is trial 11 with value: 0.909001816187445.\u001b[0m\n",
      "\u001b[32m[I 2023-03-26 19:43:10,511]\u001b[0m Trial 15 finished with value: 0.907014799230368 and parameters: {'clf': 'lr', 'n_estimators': 16}. Best is trial 11 with value: 0.909001816187445.\u001b[0m\n",
      "\u001b[32m[I 2023-03-26 19:43:10,659]\u001b[0m Trial 16 finished with value: 0.909007810205415 and parameters: {'clf': 'lr', 'n_estimators': 28}. Best is trial 16 with value: 0.909007810205415.\u001b[0m\n",
      "\u001b[32m[I 2023-03-26 19:43:10,781]\u001b[0m Trial 17 finished with value: 0.898002793212374 and parameters: {'clf': 'lr', 'n_estimators': 25}. Best is trial 16 with value: 0.909007810205415.\u001b[0m\n",
      "\u001b[32m[I 2023-03-26 19:43:10,921]\u001b[0m Trial 18 finished with value: 0.9060197922473371 and parameters: {'clf': 'lr', 'n_estimators': 28}. Best is trial 16 with value: 0.909007810205415.\u001b[0m\n",
      "\u001b[32m[I 2023-03-26 19:43:11,024]\u001b[0m Trial 19 finished with value: 0.9100088112064161 and parameters: {'clf': 'lr', 'n_estimators': 19}. Best is trial 19 with value: 0.9100088112064161.\u001b[0m\n",
      "\u001b[32m[I 2023-03-26 19:43:11,125]\u001b[0m Trial 20 finished with value: 0.897999796203389 and parameters: {'clf': 'lr', 'n_estimators': 17}. Best is trial 19 with value: 0.9100088112064161.\u001b[0m\n",
      "\u001b[32m[I 2023-03-26 19:43:11,234]\u001b[0m Trial 21 finished with value: 0.898011784239329 and parameters: {'clf': 'lr', 'n_estimators': 20}. Best is trial 19 with value: 0.9100088112064161.\u001b[0m\n",
      "\u001b[32m[I 2023-03-26 19:43:11,371]\u001b[0m Trial 22 finished with value: 0.908006809204414 and parameters: {'clf': 'lr', 'n_estimators': 27}. Best is trial 19 with value: 0.9100088112064161.\u001b[0m\n",
      "\u001b[32m[I 2023-03-26 19:43:11,438]\u001b[0m Trial 23 finished with value: 0.902006797216378 and parameters: {'clf': 'lr', 'n_estimators': 10}. Best is trial 19 with value: 0.9100088112064161.\u001b[0m\n",
      "\u001b[32m[I 2023-03-26 19:43:11,600]\u001b[0m Trial 24 finished with value: 0.9010117902333471 and parameters: {'clf': 'lr', 'n_estimators': 31}. Best is trial 19 with value: 0.9100088112064161.\u001b[0m\n",
      "\u001b[32m[I 2023-03-26 19:43:11,709]\u001b[0m Trial 25 finished with value: 0.8990037942133751 and parameters: {'clf': 'lr', 'n_estimators': 19}. Best is trial 19 with value: 0.9100088112064161.\u001b[0m\n",
      "\u001b[32m[I 2023-03-26 19:43:11,831]\u001b[0m Trial 26 finished with value: 0.902006797216378 and parameters: {'clf': 'rfc', 'n_estimators': 23}. Best is trial 19 with value: 0.9100088112064161.\u001b[0m\n",
      "\u001b[32m[I 2023-03-26 19:43:11,913]\u001b[0m Trial 27 finished with value: 0.9010027992063921 and parameters: {'clf': 'lr', 'n_estimators': 14}. Best is trial 19 with value: 0.9100088112064161.\u001b[0m\n",
      "\u001b[32m[I 2023-03-26 19:43:12,014]\u001b[0m Trial 28 finished with value: 0.9050068032103961 and parameters: {'clf': 'lr', 'n_estimators': 19}. Best is trial 19 with value: 0.9100088112064161.\u001b[0m\n",
      "\u001b[32m[I 2023-03-26 19:43:12,149]\u001b[0m Trial 29 finished with value: 0.904011796227365 and parameters: {'clf': 'lr', 'n_estimators': 28}. Best is trial 19 with value: 0.9100088112064161.\u001b[0m\n",
      "\u001b[32m[I 2023-03-26 19:43:12,246]\u001b[0m Trial 30 finished with value: 0.903007798217379 and parameters: {'clf': 'lr', 'n_estimators': 17}. Best is trial 19 with value: 0.9100088112064161.\u001b[0m\n",
      "\u001b[32m[I 2023-03-26 19:43:12,420]\u001b[0m Trial 31 finished with value: 0.9050068032103961 and parameters: {'clf': 'lr', 'n_estimators': 37}. Best is trial 19 with value: 0.9100088112064161.\u001b[0m\n",
      "\u001b[32m[I 2023-03-26 19:43:12,602]\u001b[0m Trial 32 finished with value: 0.9060137982293671 and parameters: {'clf': 'lr', 'n_estimators': 39}. Best is trial 19 with value: 0.9100088112064161.\u001b[0m\n",
      "\u001b[32m[I 2023-03-26 19:43:12,785]\u001b[0m Trial 33 finished with value: 0.9040087992183801 and parameters: {'clf': 'lr', 'n_estimators': 41}. Best is trial 19 with value: 0.9100088112064161.\u001b[0m\n",
      "\u001b[32m[I 2023-03-26 19:43:12,934]\u001b[0m Trial 34 finished with value: 0.902012791234348 and parameters: {'clf': 'lr', 'n_estimators': 31}. Best is trial 19 with value: 0.9100088112064161.\u001b[0m\n",
      "\u001b[32m[I 2023-03-26 19:43:13,073]\u001b[0m Trial 35 finished with value: 0.89900679122236 and parameters: {'clf': 'lr', 'n_estimators': 24}. Best is trial 19 with value: 0.9100088112064161.\u001b[0m\n",
      "\u001b[32m[I 2023-03-26 19:43:13,191]\u001b[0m Trial 36 finished with value: 0.9040087992183801 and parameters: {'clf': 'lr', 'n_estimators': 22}. Best is trial 19 with value: 0.9100088112064161.\u001b[0m\n",
      "\u001b[32m[I 2023-03-26 19:43:13,371]\u001b[0m Trial 37 finished with value: 0.9060078042113969 and parameters: {'clf': 'rfc', 'n_estimators': 35}. Best is trial 19 with value: 0.9100088112064161.\u001b[0m\n",
      "\u001b[32m[I 2023-03-26 19:43:13,569]\u001b[0m Trial 38 finished with value: 0.89900679122236 and parameters: {'clf': 'lr', 'n_estimators': 43}. Best is trial 19 with value: 0.9100088112064161.\u001b[0m\n",
      "\u001b[32m[I 2023-03-26 19:43:13,726]\u001b[0m Trial 39 finished with value: 0.9060137982293671 and parameters: {'clf': 'rfc', 'n_estimators': 35}. Best is trial 19 with value: 0.9100088112064161.\u001b[0m\n",
      "\u001b[32m[I 2023-03-26 19:43:13,862]\u001b[0m Trial 40 finished with value: 0.903007798217379 and parameters: {'clf': 'lr', 'n_estimators': 29}. Best is trial 19 with value: 0.9100088112064161.\u001b[0m\n",
      "\u001b[32m[I 2023-03-26 19:43:13,969]\u001b[0m Trial 41 finished with value: 0.896995798193403 and parameters: {'clf': 'lr', 'n_estimators': 20}. Best is trial 19 with value: 0.9100088112064161.\u001b[0m\n",
      "\u001b[32m[I 2023-03-26 19:43:14,086]\u001b[0m Trial 42 finished with value: 0.902003800207393 and parameters: {'clf': 'lr', 'n_estimators': 26}. Best is trial 19 with value: 0.9100088112064161.\u001b[0m\n"
     ]
    },
    {
     "name": "stderr",
     "output_type": "stream",
     "text": [
      "\u001b[32m[I 2023-03-26 19:43:14,252]\u001b[0m Trial 43 finished with value: 0.9050008091924259 and parameters: {'clf': 'lr', 'n_estimators': 22}. Best is trial 19 with value: 0.9100088112064161.\u001b[0m\n",
      "\u001b[32m[I 2023-03-26 19:43:14,418]\u001b[0m Trial 44 finished with value: 0.903001804199409 and parameters: {'clf': 'rfc', 'n_estimators': 31}. Best is trial 19 with value: 0.9100088112064161.\u001b[0m\n",
      "\u001b[32m[I 2023-03-26 19:43:14,499]\u001b[0m Trial 45 finished with value: 0.907008805212398 and parameters: {'clf': 'lr', 'n_estimators': 14}. Best is trial 19 with value: 0.9100088112064161.\u001b[0m\n",
      "\u001b[32m[I 2023-03-26 19:43:14,724]\u001b[0m Trial 46 finished with value: 0.907011802221383 and parameters: {'clf': 'lr', 'n_estimators': 49}. Best is trial 19 with value: 0.9100088112064161.\u001b[0m\n",
      "\u001b[32m[I 2023-03-26 19:43:14,848]\u001b[0m Trial 47 finished with value: 0.902006797216378 and parameters: {'clf': 'lr', 'n_estimators': 24}. Best is trial 19 with value: 0.9100088112064161.\u001b[0m\n",
      "\u001b[32m[I 2023-03-26 19:43:15,114]\u001b[0m Trial 48 finished with value: 0.9010117902333471 and parameters: {'clf': 'rfc', 'n_estimators': 59}. Best is trial 19 with value: 0.9100088112064161.\u001b[0m\n",
      "\u001b[32m[I 2023-03-26 19:43:15,265]\u001b[0m Trial 49 finished with value: 0.903007798217379 and parameters: {'clf': 'lr', 'n_estimators': 33}. Best is trial 19 with value: 0.9100088112064161.\u001b[0m\n",
      "\u001b[32m[I 2023-03-26 19:43:15,366]\u001b[0m Trial 50 finished with value: 0.9050127972283661 and parameters: {'clf': 'lr', 'n_estimators': 21}. Best is trial 19 with value: 0.9100088112064161.\u001b[0m\n",
      "\u001b[32m[I 2023-03-26 19:43:15,503]\u001b[0m Trial 51 finished with value: 0.9050157942373511 and parameters: {'clf': 'lr', 'n_estimators': 28}. Best is trial 19 with value: 0.9100088112064161.\u001b[0m\n",
      "\u001b[32m[I 2023-03-26 19:43:15,630]\u001b[0m Trial 52 finished with value: 0.9050157942373511 and parameters: {'clf': 'lr', 'n_estimators': 26}. Best is trial 19 with value: 0.9100088112064161.\u001b[0m\n",
      "\u001b[32m[I 2023-03-26 19:43:15,742]\u001b[0m Trial 53 finished with value: 0.905009800219381 and parameters: {'clf': 'lr', 'n_estimators': 19}. Best is trial 19 with value: 0.9100088112064161.\u001b[0m\n",
      "\u001b[32m[I 2023-03-26 19:43:15,857]\u001b[0m Trial 54 finished with value: 0.9090197982413551 and parameters: {'clf': 'lr', 'n_estimators': 25}. Best is trial 19 with value: 0.9100088112064161.\u001b[0m\n",
      "\u001b[32m[I 2023-03-26 19:43:15,971]\u001b[0m Trial 55 finished with value: 0.905009800219381 and parameters: {'clf': 'lr', 'n_estimators': 23}. Best is trial 19 with value: 0.9100088112064161.\u001b[0m\n",
      "\u001b[32m[I 2023-03-26 19:43:16,068]\u001b[0m Trial 56 finished with value: 0.9029988071904239 and parameters: {'clf': 'lr', 'n_estimators': 17}. Best is trial 19 with value: 0.9100088112064161.\u001b[0m\n",
      "\u001b[32m[I 2023-03-26 19:43:16,186]\u001b[0m Trial 57 finished with value: 0.905009800219381 and parameters: {'clf': 'lr', 'n_estimators': 24}. Best is trial 19 with value: 0.9100088112064161.\u001b[0m\n",
      "\u001b[32m[I 2023-03-26 19:43:16,292]\u001b[0m Trial 58 finished with value: 0.911009812207417 and parameters: {'clf': 'lr', 'n_estimators': 21}. Best is trial 58 with value: 0.911009812207417.\u001b[0m\n",
      "\u001b[32m[I 2023-03-26 19:43:16,419]\u001b[0m Trial 59 finished with value: 0.9030077982173791 and parameters: {'clf': 'lr', 'n_estimators': 26}. Best is trial 58 with value: 0.911009812207417.\u001b[0m\n",
      "\u001b[32m[I 2023-03-26 19:43:16,520]\u001b[0m Trial 60 finished with value: 0.9050068032103961 and parameters: {'clf': 'lr', 'n_estimators': 20}. Best is trial 58 with value: 0.911009812207417.\u001b[0m\n",
      "\u001b[32m[I 2023-03-26 19:43:16,625]\u001b[0m Trial 61 finished with value: 0.8990097882313451 and parameters: {'clf': 'lr', 'n_estimators': 21}. Best is trial 58 with value: 0.911009812207417.\u001b[0m\n",
      "\u001b[32m[I 2023-03-26 19:43:16,717]\u001b[0m Trial 62 finished with value: 0.9010147872423322 and parameters: {'clf': 'lr', 'n_estimators': 18}. Best is trial 58 with value: 0.911009812207417.\u001b[0m\n",
      "\u001b[32m[I 2023-03-26 19:43:16,805]\u001b[0m Trial 63 finished with value: 0.90901680123237 and parameters: {'clf': 'lr', 'n_estimators': 16}. Best is trial 58 with value: 0.911009812207417.\u001b[0m\n",
      "\u001b[32m[I 2023-03-26 19:43:16,918]\u001b[0m Trial 64 finished with value: 0.9090138042233851 and parameters: {'clf': 'lr', 'n_estimators': 15}. Best is trial 58 with value: 0.911009812207417.\u001b[0m\n",
      "\u001b[32m[I 2023-03-26 19:43:17,008]\u001b[0m Trial 65 finished with value: 0.9020127912343482 and parameters: {'clf': 'lr', 'n_estimators': 16}. Best is trial 58 with value: 0.911009812207417.\u001b[0m\n",
      "\u001b[32m[I 2023-03-26 19:43:17,094]\u001b[0m Trial 66 finished with value: 0.9000167832503162 and parameters: {'clf': 'lr', 'n_estimators': 15}. Best is trial 58 with value: 0.911009812207417.\u001b[0m\n",
      "\u001b[32m[I 2023-03-26 19:43:17,170]\u001b[0m Trial 67 finished with value: 0.892997788207369 and parameters: {'clf': 'lr', 'n_estimators': 12}. Best is trial 58 with value: 0.911009812207417.\u001b[0m\n",
      "\u001b[32m[I 2023-03-26 19:43:17,271]\u001b[0m Trial 68 finished with value: 0.8990067912223602 and parameters: {'clf': 'rfc', 'n_estimators': 18}. Best is trial 58 with value: 0.911009812207417.\u001b[0m\n",
      "\u001b[32m[I 2023-03-26 19:43:17,364]\u001b[0m Trial 69 finished with value: 0.9010087932243621 and parameters: {'clf': 'lr', 'n_estimators': 16}. Best is trial 58 with value: 0.911009812207417.\u001b[0m\n",
      "\u001b[32m[I 2023-03-26 19:43:17,442]\u001b[0m Trial 70 finished with value: 0.9010027992063919 and parameters: {'clf': 'lr', 'n_estimators': 13}. Best is trial 58 with value: 0.911009812207417.\u001b[0m\n",
      "\u001b[32m[I 2023-03-26 19:43:17,533]\u001b[0m Trial 71 finished with value: 0.902012791234348 and parameters: {'clf': 'lr', 'n_estimators': 15}. Best is trial 58 with value: 0.911009812207417.\u001b[0m\n",
      "\u001b[32m[I 2023-03-26 19:43:17,632]\u001b[0m Trial 72 finished with value: 0.9060108012203821 and parameters: {'clf': 'lr', 'n_estimators': 18}. Best is trial 58 with value: 0.911009812207417.\u001b[0m\n",
      "\u001b[32m[I 2023-03-26 19:43:17,748]\u001b[0m Trial 73 finished with value: 0.9100088112064159 and parameters: {'clf': 'lr', 'n_estimators': 23}. Best is trial 58 with value: 0.911009812207417.\u001b[0m\n",
      "\u001b[32m[I 2023-03-26 19:43:17,868]\u001b[0m Trial 74 finished with value: 0.897004789220358 and parameters: {'clf': 'lr', 'n_estimators': 22}. Best is trial 58 with value: 0.911009812207417.\u001b[0m\n",
      "\u001b[32m[I 2023-03-26 19:43:17,988]\u001b[0m Trial 75 finished with value: 0.9060048072024119 and parameters: {'clf': 'lr', 'n_estimators': 25}. Best is trial 58 with value: 0.911009812207417.\u001b[0m\n",
      "\u001b[32m[I 2023-03-26 19:43:18,079]\u001b[0m Trial 76 finished with value: 0.908012803222384 and parameters: {'clf': 'lr', 'n_estimators': 20}. Best is trial 58 with value: 0.911009812207417.\u001b[0m\n",
      "\u001b[32m[I 2023-03-26 19:43:18,216]\u001b[0m Trial 77 finished with value: 0.9050127972283661 and parameters: {'clf': 'lr', 'n_estimators': 29}. Best is trial 58 with value: 0.911009812207417.\u001b[0m\n",
      "\u001b[32m[I 2023-03-26 19:43:18,333]\u001b[0m Trial 78 finished with value: 0.9010087932243621 and parameters: {'clf': 'lr', 'n_estimators': 23}. Best is trial 58 with value: 0.911009812207417.\u001b[0m\n",
      "\u001b[32m[I 2023-03-26 19:43:18,448]\u001b[0m Trial 79 finished with value: 0.8990037942133751 and parameters: {'clf': 'lr', 'n_estimators': 21}. Best is trial 58 with value: 0.911009812207417.\u001b[0m\n",
      "\u001b[32m[I 2023-03-26 19:43:18,557]\u001b[0m Trial 80 finished with value: 0.8990037942133751 and parameters: {'clf': 'rfc', 'n_estimators': 19}. Best is trial 58 with value: 0.911009812207417.\u001b[0m\n",
      "\u001b[32m[I 2023-03-26 19:43:18,700]\u001b[0m Trial 81 finished with value: 0.9020157882433332 and parameters: {'clf': 'lr', 'n_estimators': 27}. Best is trial 58 with value: 0.911009812207417.\u001b[0m\n",
      "\u001b[32m[I 2023-03-26 19:43:18,817]\u001b[0m Trial 82 finished with value: 0.9060108012203821 and parameters: {'clf': 'lr', 'n_estimators': 24}. Best is trial 58 with value: 0.911009812207417.\u001b[0m\n",
      "\u001b[32m[I 2023-03-26 19:43:18,898]\u001b[0m Trial 83 finished with value: 0.90900481319643 and parameters: {'clf': 'lr', 'n_estimators': 17}. Best is trial 58 with value: 0.911009812207417.\u001b[0m\n",
      "\u001b[32m[I 2023-03-26 19:43:18,986]\u001b[0m Trial 84 finished with value: 0.8960037882193571 and parameters: {'clf': 'lr', 'n_estimators': 17}. Best is trial 58 with value: 0.911009812207417.\u001b[0m\n",
      "\u001b[32m[I 2023-03-26 19:43:19,112]\u001b[0m Trial 85 finished with value: 0.9050068032103961 and parameters: {'clf': 'lr', 'n_estimators': 22}. Best is trial 58 with value: 0.911009812207417.\u001b[0m\n",
      "\u001b[32m[I 2023-03-26 19:43:19,219]\u001b[0m Trial 86 finished with value: 0.90900481319643 and parameters: {'clf': 'lr', 'n_estimators': 18}. Best is trial 58 with value: 0.911009812207417.\u001b[0m\n"
     ]
    },
    {
     "name": "stderr",
     "output_type": "stream",
     "text": [
      "\u001b[32m[I 2023-03-26 19:43:19,312]\u001b[0m Trial 87 finished with value: 0.9000077922233611 and parameters: {'clf': 'lr', 'n_estimators': 15}. Best is trial 58 with value: 0.911009812207417.\u001b[0m\n",
      "\u001b[32m[I 2023-03-26 19:43:19,417]\u001b[0m Trial 88 finished with value: 0.8980057902213591 and parameters: {'clf': 'lr', 'n_estimators': 19}. Best is trial 58 with value: 0.911009812207417.\u001b[0m\n",
      "\u001b[32m[I 2023-03-26 19:43:19,505]\u001b[0m Trial 89 finished with value: 0.9000107892323461 and parameters: {'clf': 'lr', 'n_estimators': 17}. Best is trial 58 with value: 0.911009812207417.\u001b[0m\n",
      "\u001b[32m[I 2023-03-26 19:43:19,608]\u001b[0m Trial 90 finished with value: 0.90900481319643 and parameters: {'clf': 'lr', 'n_estimators': 18}. Best is trial 58 with value: 0.911009812207417.\u001b[0m\n",
      "\u001b[32m[I 2023-03-26 19:43:19,706]\u001b[0m Trial 91 finished with value: 0.9060108012203821 and parameters: {'clf': 'lr', 'n_estimators': 18}. Best is trial 58 with value: 0.911009812207417.\u001b[0m\n",
      "\u001b[32m[I 2023-03-26 19:43:19,787]\u001b[0m Trial 92 finished with value: 0.9080187972403541 and parameters: {'clf': 'lr', 'n_estimators': 16}. Best is trial 58 with value: 0.911009812207417.\u001b[0m\n",
      "\u001b[32m[I 2023-03-26 19:43:19,890]\u001b[0m Trial 93 finished with value: 0.9040087992183801 and parameters: {'clf': 'lr', 'n_estimators': 20}. Best is trial 58 with value: 0.911009812207417.\u001b[0m\n",
      "\u001b[32m[I 2023-03-26 19:43:19,982]\u001b[0m Trial 94 finished with value: 0.9020157882433332 and parameters: {'clf': 'lr', 'n_estimators': 14}. Best is trial 58 with value: 0.911009812207417.\u001b[0m\n",
      "\u001b[32m[I 2023-03-26 19:43:20,076]\u001b[0m Trial 95 finished with value: 0.8909987832143521 and parameters: {'clf': 'lr', 'n_estimators': 16}. Best is trial 58 with value: 0.911009812207417.\u001b[0m\n",
      "\u001b[32m[I 2023-03-26 19:43:20,183]\u001b[0m Trial 96 finished with value: 0.903007798217379 and parameters: {'clf': 'lr', 'n_estimators': 20}. Best is trial 58 with value: 0.911009812207417.\u001b[0m\n",
      "\u001b[32m[I 2023-03-26 19:43:20,286]\u001b[0m Trial 97 finished with value: 0.9060078042113971 and parameters: {'clf': 'lr', 'n_estimators': 18}. Best is trial 58 with value: 0.911009812207417.\u001b[0m\n",
      "\u001b[32m[I 2023-03-26 19:43:20,385]\u001b[0m Trial 98 finished with value: 0.907011802221383 and parameters: {'clf': 'rfc', 'n_estimators': 17}. Best is trial 58 with value: 0.911009812207417.\u001b[0m\n",
      "\u001b[32m[I 2023-03-26 19:43:20,502]\u001b[0m Trial 99 finished with value: 0.9100178022333711 and parameters: {'clf': 'lr', 'n_estimators': 23}. Best is trial 58 with value: 0.911009812207417.\u001b[0m\n"
     ]
    },
    {
     "name": "stdout",
     "output_type": "stream",
     "text": [
      "FrozenTrial(number=58, state=TrialState.COMPLETE, values=[0.911009812207417], datetime_start=datetime.datetime(2023, 3, 26, 19, 43, 16, 186952), datetime_complete=datetime.datetime(2023, 3, 26, 19, 43, 16, 291858), params={'clf': 'lr', 'n_estimators': 21}, user_attrs={}, system_attrs={}, intermediate_values={}, distributions={'clf': CategoricalDistribution(choices=('lr', 'rfc')), 'n_estimators': IntDistribution(high=100, log=True, low=10, step=1)}, trial_id=58, value=None)\n"
     ]
    }
   ],
   "source": [
    "if __name__ == \"__main__\":\n",
    "    obj = optuna.create_study(direction = 'maximize')\n",
    "    obj.optimize(objective , n_trials = 100) \n",
    "    print(obj.best_trial)"
   ]
  },
  {
   "cell_type": "code",
   "execution_count": 13,
   "id": "7e0cdf50",
   "metadata": {},
   "outputs": [
    {
     "data": {
      "text/plain": [
       "{'clf': 'lr', 'n_estimators': 21}"
      ]
     },
     "execution_count": 13,
     "metadata": {},
     "output_type": "execute_result"
    }
   ],
   "source": [
    "obj.best_params"
   ]
  },
  {
   "cell_type": "code",
   "execution_count": null,
   "id": "366f30de",
   "metadata": {},
   "outputs": [],
   "source": []
  }
 ],
 "metadata": {
  "kernelspec": {
   "display_name": "Python 3 (ipykernel)",
   "language": "python",
   "name": "python3"
  },
  "language_info": {
   "codemirror_mode": {
    "name": "ipython",
    "version": 3
   },
   "file_extension": ".py",
   "mimetype": "text/x-python",
   "name": "python",
   "nbconvert_exporter": "python",
   "pygments_lexer": "ipython3",
   "version": "3.9.16"
  }
 },
 "nbformat": 4,
 "nbformat_minor": 5
}
